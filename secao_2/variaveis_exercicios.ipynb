{
 "cells": [
  {
   "cell_type": "code",
   "execution_count": 70,
   "metadata": {},
   "outputs": [
    {
     "name": "stdout",
     "output_type": "stream",
     "text": [
      "<class 'str'>\n",
      "<class 'int'>\n"
     ]
    }
   ],
   "source": [
    "#Podemos obter o tipo de uma variável usando a função type\n",
    "\"\"\"\n",
    "nome = str (\"Ana Paula\"): A string \"Ana Paula\" é passada para a função str(), que\n",
    "retorna a mesma string. A função str() é desnecessária neste caso, pois \"Ana Paula\" já\n",
    "é uma string. A variável nome é atribuída a essa string.\n",
    "\n",
    "idade = int(31): O número inteiro 31 é passado para a função int(), que retorna o mesmo \n",
    "número. Novamente, a função int() é desnecessária aqui, pois 31 já é um inteiro. A variável idade é\n",
    "atribuída a esse valor inteiro.\n",
    "\n",
    "print (type(nome)): A função type() retorna o tipo da variável nome, que é <class 'str>, já que nome\n",
    "é uma string. Esse valor é então impresso, resultando na saída:\n",
    "\"\"\"\n",
    "nome = \"Ana Paula\"\n",
    "idade = 31\n",
    "\n",
    "print(type(nome))\n",
    "print(type(idade))"
   ]
  },
  {
   "cell_type": "code",
   "execution_count": 71,
   "metadata": {},
   "outputs": [
    {
     "name": "stdout",
     "output_type": "stream",
     "text": [
      "30\n",
      "Ana\n"
     ]
    }
   ],
   "source": [
    "# As variáveis diferenciam letras maiúsculas e minúsculas\n",
    "i = 30\n",
    "I = \"Ana\"\n",
    "\n",
    "print(i)\n",
    "print(I)"
   ]
  },
  {
   "cell_type": "code",
   "execution_count": 72,
   "metadata": {},
   "outputs": [
    {
     "name": "stdout",
     "output_type": "stream",
     "text": [
      "Texto 1\n",
      "Texto 2\n",
      "Texto 3\n",
      "Texto 4\n"
     ]
    }
   ],
   "source": [
    "# Podemos também atribuir valores a variáveis em uma só linha\n",
    "\"\"\"\n",
    "O código está utilizando o desempacotamento de tuplas para atribuir\n",
    "várias variáveis em uma única linha e, em seguida, imprimindo essas variáveis.\n",
    "\n",
    "var1, var2, var3, var4 = \"Texto 1\", \"Texto 2\", \"Texto 3\", \"Texto 4\":\n",
    "Nesta linha, quatro strings são atribuídas a quatro variáveis respectivas\n",
    "em uma única operação.\n",
    "\n",
    "A variável var1 é atribuída à string \"Texto 1\",\n",
    "var2 à string \"Texto 2\",\n",
    "var3 à string \"Texto 3\",\n",
    "var4 à string \"Texto 4\",\n",
    "\"\"\"\n",
    "var1, var2, var3, var4 = \"Texto 1\", \"Texto 2\", \"Texto 3\", \"Texto 4\"\n",
    "print(var1)\n",
    "print(var2)\n",
    "print(var3)\n",
    "print(var4)"
   ]
  },
  {
   "cell_type": "code",
   "execution_count": 73,
   "metadata": {},
   "outputs": [
    {
     "name": "stdout",
     "output_type": "stream",
     "text": [
      "Ana Paula\n",
      "Ana Paula\n",
      "Ana Paula\n",
      "Ana Paula\n"
     ]
    }
   ],
   "source": [
    "# Podemos atribuir o mesmo valor a várias variáveis em uma única linha.\n",
    "var1 = var2 = var3 = var4 = \"Ana Paula\"\n",
    "print(var1)\n",
    "print(var2)\n",
    "print(var3)\n",
    "print(var4)"
   ]
  },
  {
   "cell_type": "code",
   "execution_count": 74,
   "metadata": {},
   "outputs": [
    {
     "name": "stdout",
     "output_type": "stream",
     "text": [
      "Texto 1\n",
      "Texto 2\n",
      "Texto 3\n",
      "Texto 4\n"
     ]
    }
   ],
   "source": [
    "# Se tiver uma coleção de valores em uma lista, podemos extrair em variáveis. Isso é chamado de descompactar\n",
    "exemplo = \"Texto 1\", \"Texto 2\", \"Texto 3\", \"Texto 4\"\n",
    "var1, var2, var3, var4 = exemplo\n",
    "print(var1)\n",
    "print(var2)\n",
    "print(var3)\n",
    "print(var4)"
   ]
  },
  {
   "cell_type": "code",
   "execution_count": 75,
   "metadata": {},
   "outputs": [
    {
     "name": "stdout",
     "output_type": "stream",
     "text": [
      "O nome dela é Ana Paula\n"
     ]
    }
   ],
   "source": [
    "# Para juntar textos e variáveis em Python usamos o caractere + ou ,\n",
    "\n",
    "nome = \"Ana Paula\"\n",
    "print(\"O nome dela é\", nome)"
   ]
  },
  {
   "cell_type": "code",
   "execution_count": 76,
   "metadata": {},
   "outputs": [
    {
     "name": "stdout",
     "output_type": "stream",
     "text": [
      "Nome completo: Thuane Alves\n"
     ]
    }
   ],
   "source": [
    "# Para juntar textos e variáveis em Python usamos o caractere + ou ,\n",
    "\n",
    "\"\"\"\n",
    "Definindo duas variáveis, nome e sobrenome, que contêm strings. Em seguida,\n",
    "usamos a concatenação de strings para juntar essas variáveis e imprimi-las como um\n",
    "nome completo.\n",
    "\n",
    "Vamos analisar cada parte:\n",
    "nome = \"Thuane\": Atribui a string \"Thuane\" à variável nome.\n",
    "\n",
    "sobrenome = \"Alves\": Atribui a string \"Alves\" à variável sobrenome.\n",
    "\n",
    "print(\"Nome completo: \" + nome + \" \"  + sobrenome)\n",
    "\n",
    " - Nome completo: \" é uma string literal que será o começo da saída.\n",
    " - nome é a variável que contém a string \"Thuane\", e ela é concatenada à string anterior.\n",
    " - \" \" é uma string literal contendo um espaço, e ela é usada para separar o nome e o sobrenome na saída.\n",
    " - sobrenome é a variável que contém a string \"Alves\", e ela é concatenada ao restante da string.\n",
    "\n",
    " A concatenação dessas partes resulta na string \"Nome completo: Thuane Alves\", que é então impressa.\n",
    "\n",
    "\"\"\"\n",
    "\n",
    "nome = \"Thuane\"\n",
    "sobrenome = \"Alves\"\n",
    "\n",
    "print(\"Nome completo: \" + nome + \" \" + sobrenome)"
   ]
  },
  {
   "cell_type": "code",
   "execution_count": 77,
   "metadata": {},
   "outputs": [
    {
     "name": "stdout",
     "output_type": "stream",
     "text": [
      "A soma é:  125.5\n"
     ]
    }
   ],
   "source": [
    "# Exercício de variáveis em Python\n",
    "\n",
    "# 1 Declare uma variável chamada \"idade\" e atribua o valor 25 a ela.\n",
    "\n",
    "# 2 Declare uma variável chamada \"nome\" e atribua o valor \"João\" a ela.\n",
    "\n",
    "# 3 Declare uma variável chamada \"saldo\" e atribua o valor 100.50 a ela.\n",
    "\n",
    "# 4 Crie uma variável chamada \"soma\" e atribua a ela a soma das variáveis \"idade\" e \"saldo\".\n",
    "\n",
    "# 5 Imprima na tela o valor da variável \"soma\".\n",
    "\n",
    "idade = 25\n",
    "nome = \"João\"\n",
    "saldo = 100.50\n",
    "soma = idade + saldo\n",
    "\n",
    "print(\"A soma é: \", soma)"
   ]
  },
  {
   "cell_type": "code",
   "execution_count": 78,
   "metadata": {},
   "outputs": [
    {
     "name": "stdout",
     "output_type": "stream",
     "text": [
      "A média é:  7.57\n"
     ]
    }
   ],
   "source": [
    "# Exercício de variáveis em Python\n",
    "\n",
    "# 1 Crie uma variável chamada \"nota1\" e atribua o valor 7.5 a ela.\n",
    "\n",
    "# 2 Crie uma variável chamada \"nota2\" e atribua o valor 8.3 a ela.\n",
    "\n",
    "# 3 Crie uma variável chamada \"nota3\" e atribua o valor 6.9 a ela.\n",
    "\n",
    "# Calcule a média das três notas e atribua o resultado a uma variável chamada média.\n",
    "\n",
    "# 5 Imprima na tela o valor da variável \"media\" formatado com duas casas decimais.\n",
    "\n",
    "nota1 = 7.5\n",
    "nota2 = 8.3\n",
    "nota3 = 6.9\n",
    "media = (nota1 + nota2 + nota3) / 3\n",
    "\n",
    "print(\"A média é: \", format(media, \".2f\"))"
   ]
  }
 ],
 "metadata": {
  "kernelspec": {
   "display_name": "Python 3 (ipykernel)",
   "language": "python",
   "name": "python3"
  },
  "language_info": {
   "codemirror_mode": {
    "name": "ipython",
    "version": 3
   },
   "file_extension": ".py",
   "mimetype": "text/x-python",
   "name": "python",
   "nbconvert_exporter": "python",
   "pygments_lexer": "ipython3",
   "version": "3.11.5"
  }
 },
 "nbformat": 4,
 "nbformat_minor": 2
}
