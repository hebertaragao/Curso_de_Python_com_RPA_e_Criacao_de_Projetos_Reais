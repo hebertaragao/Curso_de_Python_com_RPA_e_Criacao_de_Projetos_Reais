{
 "cells": [
  {
   "cell_type": "code",
   "execution_count": 6,
   "metadata": {},
   "outputs": [
    {
     "name": "stdout",
     "output_type": "stream",
     "text": [
      "\n",
      "O seu nome é: Hebert\n"
     ]
    }
   ],
   "source": [
    "nome = input(\"Digite o seu nome: \\n\")\n",
    "print(\"\\nO seu nome é: \" + nome)"
   ]
  },
  {
   "cell_type": "code",
   "execution_count": 7,
   "metadata": {},
   "outputs": [
    {
     "name": "stdout",
     "output_type": "stream",
     "text": [
      "\n",
      "Aluno:  Hebert  Média: 6.0\n"
     ]
    }
   ],
   "source": [
    "\"\"\"\n",
    "Solicita ao usuário que insira seu nome e duas notas, calcula a média dessas notas e,\n",
    "em seguida, imprime uma mensagem contendo o nome do aluno e a média calculada.\n",
    "\n",
    "Vamos analisar cada parte di código:\n",
    "\n",
    "nome = input(\"Digite seu nome\"): Solicita ao usuário que digite seu nome e armazena o valor inserido na variável nome.\n",
    "\n",
    "nota1 = float(input(\"Digite a nota 1\")): Solicita ao usuário que digite a \n",
    "primeira nota, converte o valor inserido para um número de ponto flutuante usando\n",
    "float(), e armazena o resultado na variável nota1.\n",
    "\n",
    "nota2 = float(input(\"Digite a nota 2\")): Solicita ao usuário que digite a \n",
    "segunda nota, converte o valor inserido para um número de ponto flutuante usando\n",
    "float(), e armazena o resultado na variável nota2.\n",
    "\n",
    "media = (nota1 + nota2) / 2: Calcula a média das duas notas somando nota1 e nota2, e dividindo\n",
    "o resultado por 2. A média é armazenda na variável media.\n",
    "\n",
    "print(\"Aluno\", nome, \"Média: \", media): Imprime uma mensagem formatada contendo o nome do \n",
    "aluno e a média calculada. A função print() pode receber vários argumentos separados\n",
    "por vírgulas, e imprimirá cada um deles sequencialmente, separados por um espaço.\n",
    "\n",
    "O resultado final combina os valores das variáveis nome e media com as strings\n",
    "literais para criar a saída completa.\n",
    "\"\"\"\n",
    "\n",
    "nome = input(\"Digite seu nome: \\n\")\n",
    "nota1 = float(input(\"Digite a nota 1: \"))\n",
    "nota2 = float(input(\"Digite a nota 2: \"))\n",
    "\n",
    "media = (nota1 + nota2) / 2 \n",
    "print(\"\\nAluno: \", nome, \" Média:\", media)"
   ]
  },
  {
   "cell_type": "code",
   "execution_count": 9,
   "metadata": {},
   "outputs": [
    {
     "name": "stdout",
     "output_type": "stream",
     "text": [
      "3 * 1 = 3\n",
      "3 * 2 = 6\n",
      "3 * 3 = 9\n",
      "3 * 4 = 12\n",
      "3 * 5 = 15\n",
      "3 * 6 = 18\n",
      "3 * 7 = 21\n",
      "3 * 8 = 24\n",
      "3 * 9 = 27\n",
      "3 * 10 = 30\n"
     ]
    }
   ],
   "source": [
    "\"\"\"\n",
    "Exercício Tabuada Personalizada\n",
    "\n",
    "Escreva um programa que solicite ao usuário um número inteiro e  exiba a tabuada desse número, do 1 ao 10.\n",
    "Entrada:\n",
    "\n",
    "    Um número inteiro n, representando o número do qual você deseja ver a tabuada.\n",
    "\n",
    "Saída:\n",
    "\n",
    "    O programa deve imprimir dez linhas, mostrando o resultado da multiplicação do \n",
    "    número digitado com os números de 1 a 10, no formato n * i = resultado, onde n é o número\n",
    "    digitado pelo usuário e i varia de 1 a 10.\n",
    "\n",
    "Exemplo de Entrada:\n",
    "\n",
    "A tabuada de qual número deseja ver 5\n",
    "\n",
    "Exemplo de Saída:\n",
    "\n",
    "5 * 1 = 5\n",
    "5 * 2 = 10\n",
    "5 * 3 = 15\n",
    "5 * 4 = 20\n",
    "5 * 5 = 25\n",
    "5 * 6 = 30\n",
    "5 * 7 = 35\n",
    "5 * 8 = 40\n",
    "5 * 9 = 45\n",
    "5 * 10 = 50\n",
    "\"\"\"\n",
    "\n",
    "# Tabuada\n",
    "\n",
    "nDigitado = int(input(\"A tabuada de qual número você deseja ver? \"))\n",
    "print(nDigitado, \"* 1 =\", nDigitado * 1)\n",
    "print(nDigitado, \"* 2 =\", nDigitado * 2)\n",
    "print(nDigitado, \"* 3 =\", nDigitado * 3)\n",
    "print(nDigitado, \"* 4 =\", nDigitado * 4)\n",
    "print(nDigitado, \"* 5 =\", nDigitado * 5)\n",
    "print(nDigitado, \"* 6 =\", nDigitado * 6)\n",
    "print(nDigitado, \"* 7 =\", nDigitado * 7)\n",
    "print(nDigitado, \"* 8 =\", nDigitado * 8)\n",
    "print(nDigitado, \"* 9 =\", nDigitado * 9)\n",
    "print(nDigitado, \"* 10 =\", nDigitado * 10)"
   ]
  },
  {
   "cell_type": "code",
   "execution_count": 10,
   "metadata": {},
   "outputs": [
    {
     "name": "stdout",
     "output_type": "stream",
     "text": [
      "Sua idade é:  49\n"
     ]
    }
   ],
   "source": [
    "\"\"\"\n",
    "Exercício\n",
    "\n",
    "Crie um algorítmo que solicite o ano de nascimento do usuário e\n",
    "com base no ano corrente imprima a idade\n",
    "\"\"\"\n",
    "\n",
    "ano_atual = 2024\n",
    "ano_nascimento = int(input(\"Digite o ano de nascimento: \"))\n",
    "\n",
    "idade = ano_atual - ano_nascimento\n",
    "\n",
    "print(\"Sua idade é: \", idade)"
   ]
  }
 ],
 "metadata": {
  "kernelspec": {
   "display_name": "Python 3 (ipykernel)",
   "language": "python",
   "name": "python3"
  },
  "language_info": {
   "codemirror_mode": {
    "name": "ipython",
    "version": 3
   },
   "file_extension": ".py",
   "mimetype": "text/x-python",
   "name": "python",
   "nbconvert_exporter": "python",
   "pygments_lexer": "ipython3",
   "version": "3.11.5"
  }
 },
 "nbformat": 4,
 "nbformat_minor": 2
}
