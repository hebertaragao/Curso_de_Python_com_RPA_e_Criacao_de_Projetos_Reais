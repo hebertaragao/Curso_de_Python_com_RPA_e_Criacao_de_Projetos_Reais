{
 "cells": [
  {
   "cell_type": "code",
   "execution_count": 48,
   "metadata": {},
   "outputs": [
    {
     "name": "stdout",
     "output_type": "stream",
     "text": [
      "Script executado com sucesso!\n"
     ]
    }
   ],
   "source": [
    "# Este sinal serve para comentar um código para que o usuário saiba o que o código faz\n",
    "\n",
    "\"\"\"\n",
    "Usando 3 aspas podemos\n",
    "comentar várias linhas\n",
    "assim quando o código for executado o script pula estas linhas\n",
    "\"\"\"\n",
    "\n",
    "print(\"Script executado com sucesso!\")"
   ]
  },
  {
   "cell_type": "code",
   "execution_count": 49,
   "metadata": {},
   "outputs": [
    {
     "name": "stdout",
     "output_type": "stream",
     "text": [
      "42\n"
     ]
    }
   ],
   "source": [
    "inteiro = 42\n",
    "print(inteiro)"
   ]
  },
  {
   "cell_type": "code",
   "execution_count": 50,
   "metadata": {},
   "outputs": [
    {
     "name": "stdout",
     "output_type": "stream",
     "text": [
      "Inteiro:  42\n",
      "Flutuante:  42.0\n",
      "Complexo: (3+4j)\n",
      "String:  Olá Mundo!\n",
      "Lista:  [1, 2, 3]\n",
      "Tuplas: (1, 2, 3, 4, 5)\n",
      "conjunto: {1, 2, 3}\n",
      "Dicionario:  {'chave': 'valor'}\n",
      "Booleano:  True\n",
      "NoneType (None):  None\n"
     ]
    }
   ],
   "source": [
    "\"\"\"\n",
    "O que é uma variável?\n",
    "\n",
    "Uma variável é um nome que se refere a um valor armazenado na memória do computador.\n",
    "Em programação, as variáveis são usadas para armazenar dados que podem ser utilizados\n",
    "e manipulados ao longo de um programa.\n",
    "\n",
    "Em python, as variáveis não são declaradas com um tipo específico. No entanto,\n",
    "os tipos de dados que você pode armazenar em uma variável incluem>\n",
    "\"\"\"\n",
    "\n",
    "# Prinicpais tipos de variáveis\n",
    "\n",
    "# Inteiros (int): Números inteiros, sem parte decimal.\n",
    "inteiro = 42\n",
    "print(\"Inteiro: \", inteiro)\n",
    "\n",
    "# Ponto Flutuante (float): Números reais, que têm uma aprte decimal.\n",
    "flutuante = 42.0\n",
    "print(\"Flutuante: \", flutuante)\n",
    "\n",
    "# Complexos (complex): Números complexos, que têm uma aprte real e uma parte imaginária.\n",
    "complexo = 3 + 4j\n",
    "print(\"Complexo:\", complexo)\n",
    "\n",
    "# Strings (str): Sequências de caracteres.\n",
    "texto = \"Olá Mundo!\"\n",
    "print(\"String: \", texto)\n",
    "\n",
    "\"\"\"\n",
    "Os termos \"mutável\"  e \"imutável\"\n",
    " referem-se à capacidade de alterar o conteúdo\n",
    " de um objeto depois que ele foi criado.\n",
    " \n",
    " Mutável: Significa que o conteúdo do objeto pode ser alterado após a sua criação. As\n",
    " listas em Python são mutáveis, o que significa que você pode modificar seus elementos.\n",
    "\n",
    " Imutável: Significa que o conteúdo do objeto não pode ser alterado após a sua criação. As\n",
    " tuplas em Python são imutáveis, o que significa que, uma vez criada, você não pode modificar \n",
    " seus elementos.\n",
    " \"\"\"\n",
    "# Listas (list): Uma coleção ordenada e mutável.\n",
    "lista = [1, 2, 3]\n",
    "print(\"Lista: \", lista)\n",
    "\n",
    "# Tuplas (tuple): Uma coleção ordenada e imutável.\n",
    "tuplas = (1, 2, 3,4 ,5)\n",
    "print(\"Tuplas:\", tuplas)\n",
    "\n",
    "# Conjunto (set): Um coleção não ordenada de itens únicos\n",
    "conjunto = {1, 2, 3}\n",
    "print(\"conjunto:\", conjunto)\n",
    "\n",
    "# Dicionários (dict): Uma coleção não ordenada de pares chave-valor.\n",
    "dicionario = {\"chave\": \"valor\"}\n",
    "print(\"Dicionario: \", dicionario)\n",
    "\n",
    "# Booleanos (bool): Valores verdadeiro ou falso.\n",
    "booleano = True\n",
    "print(\"Booleano: \", booleano)\n",
    "\n",
    "# NoneType (None): Um tipo especial que representa a ausência de valor.\n",
    "nenhum = None\n",
    "print(\"NoneType (None): \", nenhum)"
   ]
  },
  {
   "cell_type": "code",
   "execution_count": 51,
   "metadata": {},
   "outputs": [
    {
     "name": "stdout",
     "output_type": "stream",
     "text": [
      "Nome:  Nicole\n",
      "Idade:  30\n",
      "nome:  Nicole , Idade:  30\n"
     ]
    }
   ],
   "source": [
    "# Variáveis\n",
    "\n",
    "idade = 30\n",
    "nome = \"Nicole\"\n",
    "\n",
    "print(\"Nome: \", nome)\n",
    "print(\"Idade: \", idade)\n",
    "print(\"nome: \", nome, \", Idade: \", idade)\n",
    "\n",
    "\"\"\"\n",
    "idade = 30: Nesta linha, estamos declarando uma variável chamada\n",
    "idade e atribuindo o valor 30 a ela. Essa variável pode ser usada posteriormente\n",
    "no código para referenciar esse valor.\n",
    "\n",
    "nome = \"Nicole\": Aqui, estamos declarando uma variável chmada nome e atribuindo \n",
    "a ela a string \"Nicole\". Assim como a variável idade, essa variável também pode ser \n",
    "usada posteriormente no código.\n",
    "\n",
    "print(\"Nome: \", nome, \"Idade: \", idade): esta linha usa a função print para\n",
    "imprimir uma string na tela. Ela começa com a string literal \"nome: \", seguida pelo valor\n",
    "da variável nome, que é \"Nicole\", uma string lieral com espaço e \" idade: \", e finalmente\n",
    "o valor da variável idade, que é 30.\n",
    "\"\"\""
   ]
  }
 ],
 "metadata": {
  "kernelspec": {
   "display_name": "Python 3 (ipykernel)",
   "language": "python",
   "name": "python3"
  },
  "language_info": {
   "codemirror_mode": {
    "name": "ipython",
    "version": 3
   },
   "file_extension": ".py",
   "mimetype": "text/x-python",
   "name": "python",
   "nbconvert_exporter": "python",
   "pygments_lexer": "ipython3",
   "version": "3.11.5"
  }
 },
 "nbformat": 4,
 "nbformat_minor": 2
}
